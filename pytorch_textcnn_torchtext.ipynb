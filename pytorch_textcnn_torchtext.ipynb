{
  "nbformat": 4,
  "nbformat_minor": 0,
  "metadata": {
    "accelerator": "GPU",
    "colab": {
      "name": "pytorch_textcnn_torchtext",
      "provenance": [],
      "collapsed_sections": [],
      "toc_visible": true,
      "include_colab_link": true
    },
    "kernelspec": {
      "display_name": "Python 3",
      "language": "python",
      "name": "python3"
    },
    "language_info": {
      "codemirror_mode": {
        "name": "ipython",
        "version": 3
      },
      "file_extension": ".py",
      "mimetype": "text/x-python",
      "name": "python",
      "nbconvert_exporter": "python",
      "pygments_lexer": "ipython3",
      "version": "3.8.5"
    }
  },
  "cells": [
    {
      "cell_type": "markdown",
      "metadata": {
        "id": "view-in-github",
        "colab_type": "text"
      },
      "source": [
        "<a href=\"https://colab.research.google.com/github/AnXiaoNuan/geektime_learn_NLP/blob/master/pytorch_textcnn_torchtext.ipynb\" target=\"_parent\"><img src=\"https://colab.research.google.com/assets/colab-badge.svg\" alt=\"Open In Colab\"/></a>"
      ]
    },
    {
      "cell_type": "code",
      "metadata": {
        "id": "lYHe6Ze7KXro"
      },
      "source": [
        "import nltk\n",
        "from nltk.tokenize import word_tokenize\n",
        "\n",
        "import torch\n",
        "import torch.nn as nn\n",
        "from torchtext.legacy import data, datasets\n",
        "\n",
        "\n",
        "import random"
      ],
      "execution_count": 22,
      "outputs": []
    },
    {
      "cell_type": "code",
      "metadata": {
        "id": "FFEzmLbhFqBh"
      },
      "source": [
        "import time"
      ],
      "execution_count": 23,
      "outputs": []
    },
    {
      "cell_type": "code",
      "metadata": {
        "id": "tDunT1RGRX1G"
      },
      "source": [
        "SEED = 1234\n",
        "torch.manual_seed(SEED)\n",
        "torch.backends.cudnn.deterministic = True"
      ],
      "execution_count": 24,
      "outputs": []
    },
    {
      "cell_type": "markdown",
      "metadata": {
        "id": "aPCOgeCbMXqn"
      },
      "source": [
        "# prepare data"
      ]
    },
    {
      "cell_type": "markdown",
      "metadata": {
        "id": "5hFZpJj7O1N5"
      },
      "source": [
        "tokenize, build vocabulary, covert text into word index."
      ]
    },
    {
      "cell_type": "markdown",
      "metadata": {
        "id": "pg1c80b7TSsh"
      },
      "source": [
        "Field defines how to process text, here is the most common parameters:\n",
        "\n",
        "sequential – Whether the datatype represents sequential data. If False, no tokenization is applied. Default: True.\n",
        "\n",
        "use_vocab – Whether to use a Vocab object. If False, the data in this field should already be numerical. Default: True.\n",
        "\n",
        "preprocessing – The Pipeline that will be applied to examples using this field after tokenizing but before numericalizing. Many Datasets replace this attribute with a custom preprocessor. Default: None.\n",
        "\n",
        "batch_first – Whether to produce tensors with the batch dimension first. Default: False.\n",
        "\n",
        "\n",
        "\n"
      ]
    },
    {
      "cell_type": "code",
      "metadata": {
        "colab": {
          "base_uri": "https://localhost:8080/"
        },
        "id": "Xz5toNH7K2cL",
        "outputId": "5091b0dc-40a2-4848-8f84-7ccd36f18884"
      },
      "source": [
        "nltk.download('punkt')\n",
        "tokenizer = word_tokenize"
      ],
      "execution_count": 25,
      "outputs": [
        {
          "output_type": "stream",
          "text": [
            "[nltk_data] Downloading package punkt to /root/nltk_data...\n",
            "[nltk_data]   Package punkt is already up-to-date!\n"
          ],
          "name": "stdout"
        }
      ]
    },
    {
      "cell_type": "code",
      "metadata": {
        "id": "tClMLTTDMW5a"
      },
      "source": [
        "TEXT = data.Field(tokenize=tokenizer, include_lengths=True)\n",
        "LABEL = data.LabelField(dtype=torch.float)\n",
        "train_data, test_data = datasets.IMDB.splits(TEXT, LABEL, root='/home')"
      ],
      "execution_count": 26,
      "outputs": []
    },
    {
      "cell_type": "code",
      "metadata": {
        "id": "u0eVh4_xMRk0"
      },
      "source": [
        "train_data, valid_data = train_data.split(random_state=random.seed(SEED))"
      ],
      "execution_count": 27,
      "outputs": []
    },
    {
      "cell_type": "code",
      "metadata": {
        "id": "raMDngUsLI5v"
      },
      "source": [
        "MAX_VOCAB_SIZE = 25000\n",
        "TEXT.build_vocab(train_data, max_size= MAX_VOCAB_SIZE, vectors=\"glove.6B.300d\", unk_init=torch.Tensor.normal_)\n",
        "LABEL.build_vocab(train_data, valid_data, test_data)"
      ],
      "execution_count": 28,
      "outputs": []
    },
    {
      "cell_type": "markdown",
      "metadata": {
        "id": "BqFYN7KJSOxo"
      },
      "source": [
        "# build iterator"
      ]
    },
    {
      "cell_type": "code",
      "metadata": {
        "colab": {
          "base_uri": "https://localhost:8080/"
        },
        "id": "sRXS7DIhOBMM",
        "outputId": "3e67a0c4-72d8-4e0e-9319-bef7d0fc20c1"
      },
      "source": [
        "BATCH_SIZE = 64\n",
        "device = torch.device('cuda' if torch.cuda.is_available() else 'cpu')\n",
        "print(device)\n",
        "\n",
        "\n",
        "train_iter, val_iter, test_iter = data.BucketIterator.splits(\n",
        "    (train_data, valid_data, test_data),\n",
        "    batch_sizes = (BATCH_SIZE, BATCH_SIZE, BATCH_SIZE),\n",
        "    sort_within_batch = True,\n",
        "    device = device)"
      ],
      "execution_count": 29,
      "outputs": [
        {
          "output_type": "stream",
          "text": [
            "cuda\n"
          ],
          "name": "stdout"
        }
      ]
    },
    {
      "cell_type": "markdown",
      "metadata": {
        "id": "zU8pfFwaUkR_"
      },
      "source": [
        "# Define Model"
      ]
    },
    {
      "cell_type": "code",
      "metadata": {
        "id": "sUpHePwoTFI5"
      },
      "source": [
        "\n",
        "class textCNNMulti(nn.Module):\n",
        "\n",
        "    def __init__(self, args):\n",
        "        super().__init__()\n",
        "        dim = args['dim']\n",
        "        n_class = args['n_class']\n",
        "        embeddings=args['embedding_matrix']\n",
        "        kernels = [3, 4, 5]\n",
        "        kernel_number = [150, 150, 150]\n",
        "        self.static_embed = nn.Embedding.from_pretrained(embeddings)\n",
        "        self.non_static_embed = nn.Embedding.from_pretrained(embeddings, freeze=False)\n",
        "        self.convs = nn.ModuleList([nn.Conv2d(2, number, (size, dim), padding=(size-1,0)) for (size, number) in zip(kernels, kernel_number)])\n",
        "        self.dropout = nn.Dropout()\n",
        "        self.out = nn.Linear(sum(kernel_number), n_class)\n",
        "\n",
        "    def forward(self, x):\n",
        "        #print('x original shape is ', x.shape) # shape: [137, 64]\n",
        "        non_static_input = self.non_static_embed(x) \n",
        "        static_input = self.static_embed(x) # shape: [sequence_length, batch_size, embedding_dim]\n",
        "        x = torch.stack([non_static_input, static_input], dim=1) # shape: [137, 2, 64, 300]\n",
        "        x = x.permute(2, 1, 0, 3) # shape: [64, 2, 137, 300]\n",
        "        #print('x after being stacked shape is ',x.shape)\n",
        "        conv_pool_x = []\n",
        "        for conv in self.convs:\n",
        "            relu_x = nn.functional.relu(conv(x)) # shape: [64, 150, 139, 1]\n",
        "            #print('relu_x before squeezing', relu_x.shape)\n",
        "            relu_x = relu_x.squeeze(3) # [64, 150, 139]\n",
        "            #print('relu_x after squeezing', relu_x.shape)\n",
        "            pool_x = nn.functional.max_pool1d(relu_x, relu_x.size(2)) # [64, 150]\n",
        "            #print('pool_x before squeezing', pool_x.shape)\n",
        "            pool_x = pool_x.squeeze(2) # [64, 150]\n",
        "            #print('pool_x after squeezing', pool_x.shape)\n",
        "            conv_pool_x.append(pool_x)\n",
        "\n",
        "        #print('len(conv_pool_x):', len(conv_pool_x))\n",
        "        #print('conv_pool_x[0].shape:', conv_pool_x[0].shape) # [64, 150]\n",
        "        conv_pool_x = torch.cat(conv_pool_x, 1) # [64, 450]\n",
        "        #print('conv_pool_x:', conv_pool_x.shape)\n",
        "        conv_pool_x = self.dropout(conv_pool_x) # [64, 450]\n",
        "        #print('conv_pool_x after dropout:', conv_pool_x.shape)\n",
        "        conv_pool_x = self.out(conv_pool_x)\n",
        "        return conv_pool_x\n"
      ],
      "execution_count": 30,
      "outputs": []
    },
    {
      "cell_type": "code",
      "metadata": {
        "colab": {
          "base_uri": "https://localhost:8080/"
        },
        "id": "CQl897eJcttO",
        "outputId": "455f04dc-8368-497c-a84d-6e4fae9cd8d1"
      },
      "source": [
        "a = torch.tensor([[1,2,3], [4, 5, 6]])\n",
        "b = torch.tensor([[7, 8, 9], [11, 12, 13]])\n",
        "c = torch.stack([a, b], dim=1)\n",
        "c"
      ],
      "execution_count": 31,
      "outputs": [
        {
          "output_type": "execute_result",
          "data": {
            "text/plain": [
              "tensor([[[ 1,  2,  3],\n",
              "         [ 7,  8,  9]],\n",
              "\n",
              "        [[ 4,  5,  6],\n",
              "         [11, 12, 13]]])"
            ]
          },
          "metadata": {
            "tags": []
          },
          "execution_count": 31
        }
      ]
    },
    {
      "cell_type": "code",
      "metadata": {
        "colab": {
          "base_uri": "https://localhost:8080/"
        },
        "id": "DM-GO_bIdDH8",
        "outputId": "bfc90798-5b0e-44aa-f966-ecb41fde9b0d"
      },
      "source": [
        "c.shape"
      ],
      "execution_count": 32,
      "outputs": [
        {
          "output_type": "execute_result",
          "data": {
            "text/plain": [
              "torch.Size([2, 2, 3])"
            ]
          },
          "metadata": {
            "tags": []
          },
          "execution_count": 32
        }
      ]
    },
    {
      "cell_type": "markdown",
      "metadata": {
        "id": "coj0AN7H_wHC"
      },
      "source": [
        "# initialize model"
      ]
    },
    {
      "cell_type": "code",
      "metadata": {
        "id": "9J_1vzfMf59m"
      },
      "source": [
        "args={}\n",
        "args['vocb_size']=len(TEXT.vocab)\n",
        "args['dim']=300\n",
        "args['n_class']=len(LABEL.vocab)\n",
        "args['embedding_matrix']=TEXT.vocab.vectors\n",
        "args['lr']=0.001\n",
        "args['momentum']=0.8\n",
        "args['epochs']=180\n",
        "args['log_interval']=100\n",
        "args['test_interval']=500\n",
        "args['save_dir']='./'\n",
        "UNK_IDX = TEXT.vocab.stoi[TEXT.unk_token]\n",
        "PAD_IDX = TEXT.vocab.stoi[TEXT.pad_token]\n",
        "\n",
        "model = textCNNMulti(args)\n",
        "model = model.to(device)\n",
        "model.static_embed.weight.data[UNK_IDX] = torch.zeros(args['dim'])\n",
        "model.static_embed.weight.data[PAD_IDX] = torch.zeros(args['dim'])"
      ],
      "execution_count": 33,
      "outputs": []
    },
    {
      "cell_type": "code",
      "metadata": {
        "id": "03ZXG39QFYgp"
      },
      "source": [
        "model.non_static_embed.weight.data[UNK_IDX] = torch.zeros(args['dim'])\n",
        "model.non_static_embed.weight.data[PAD_IDX] = torch.zeros(args['dim'])"
      ],
      "execution_count": 34,
      "outputs": []
    },
    {
      "cell_type": "markdown",
      "metadata": {
        "id": "GGhQRZUQ_2Z6"
      },
      "source": [
        "# initialize optimizer"
      ]
    },
    {
      "cell_type": "code",
      "metadata": {
        "id": "AytwCqMt__1W"
      },
      "source": [
        "import torch.optim as optim\n",
        "\n",
        "optimizer = optim.Adam(model.parameters(), lr=args['lr'])\n",
        "criterion = nn.CrossEntropyLoss()\n",
        "criterion = criterion.to(device)"
      ],
      "execution_count": 35,
      "outputs": []
    },
    {
      "cell_type": "code",
      "metadata": {
        "id": "dnvKY9nnAg7x"
      },
      "source": [
        "def binary_accuracy(logits, y):\n",
        "    \"\"\"\n",
        "    Returns accuracy per batch, i.e. if you get 8/10 right, this returns 0.8, NOT 8\n",
        "    \"\"\"\n",
        "\n",
        "    #round predictions to the closest integer\n",
        "    softmax = nn.Softmax(dim=1)\n",
        "    probs = softmax(logits)\n",
        "    _, y_pred_tags = torch.max(probs, dim = 1)\n",
        "    correct = (y_pred_tags == y).float() #convert into float for division \n",
        "    acc = correct.sum() / len(correct)\n",
        "    return acc"
      ],
      "execution_count": 36,
      "outputs": []
    },
    {
      "cell_type": "markdown",
      "metadata": {
        "id": "uONNAnnGAnSJ"
      },
      "source": [
        "# train"
      ]
    },
    {
      "cell_type": "code",
      "metadata": {
        "id": "ssJ-feOjAqUk"
      },
      "source": [
        "def train(model, iterator, optimizer, criterion, epoch, validate_after_n_batch):\n",
        "    # epoch_loss = 0\n",
        "    # epoch_acc = 0\n",
        "\n",
        "    best_valid_loss = float('inf')\n",
        "\n",
        "    n_batch_train_loss = 0\n",
        "    n_batch_train_acc = 0\n",
        "\n",
        "    model.train()\n",
        "\n",
        "    total_batch = 0\n",
        "\n",
        "    start_time = time.time()\n",
        "\n",
        "    for batch in iterator:\n",
        "\n",
        "        #print(batch)\n",
        "        total_batch += 1\n",
        "\n",
        "        optimizer.zero_grad()\n",
        "\n",
        "        text, tex_lengths = batch.text\n",
        "\n",
        "        #print(text.shape)\n",
        "\n",
        "        text = text.cuda()\n",
        "\n",
        "        logits = model(text).squeeze(1)\n",
        "\n",
        "        label = batch.label.type(torch.long)\n",
        "\n",
        "        loss = criterion(logits, label)\n",
        "\n",
        "        acc = binary_accuracy(logits, label)\n",
        "\n",
        "        loss.backward()\n",
        "\n",
        "        optimizer.step()\n",
        "\n",
        "        end_time = time.time()\n",
        "\n",
        "        epoch_mins, epoch_secs = epoch_time(start_time, end_time)\n",
        "\n",
        "        n_batch_train_loss += loss.item()\n",
        "        n_batch_train_acc += acc.item()\n",
        "\n",
        "        avg_batch_train_loss = n_batch_train_loss / total_batch\n",
        "        avg_batch_train_acc = n_batch_train_acc / total_batch\n",
        "\n",
        "        if total_batch % validate_after_n_batch == 0:\n",
        "            # validation\n",
        "            avg_batch_valid_loss, avg_batch_valid_acc = evaluate(model, val_iter, criterion)\n",
        "\n",
        "            if avg_batch_valid_loss < best_valid_loss:\n",
        "                best_valid_loss = avg_batch_valid_loss\n",
        "                torch.save(model.state_dict(), 'model.pt')\n",
        "            print(f'Epoch: {epoch+1:02} | Total Batch: {total_batch:06} | Training Time for latest {validate_after_n_batch:03} batches: {epoch_mins}m {epoch_secs}s' )\n",
        "            print(f'\\tTrain Loss: {avg_batch_train_loss:.3f} | Train Acc: {avg_batch_train_acc*100:.2f}%')\n",
        "            print(f'\\t Val. Loss: {avg_batch_valid_loss:.3f} |  Val. Acc: {avg_batch_valid_acc*100:.2f}%')\n",
        "            start_time = time.time()\n",
        "            model.train()\n",
        "        \n",
        "        \n",
        "  #return epoch_loss / len(iterator), epoch_acc / len(iterator)\n"
      ],
      "execution_count": 37,
      "outputs": []
    },
    {
      "cell_type": "code",
      "metadata": {
        "id": "WxlfT6wKCUoR"
      },
      "source": [
        "def evaluate(model, iterator, criterion):\n",
        "    \n",
        "    total_loss = 0\n",
        "    total_acc = 0\n",
        "    \n",
        "    model.eval()\n",
        "\n",
        "    #print(len(iterator))\n",
        "    \n",
        "    with torch.no_grad():\n",
        "    \n",
        "        for batch in iterator:\n",
        "          \n",
        "            text, text_lengths = batch.text\n",
        "\n",
        "            text = text.cuda()\n",
        "\n",
        "            label = batch.label.type(torch.long)\n",
        "\n",
        "            logits = model(text).squeeze(1)\n",
        "\n",
        "            loss = criterion(logits, label)\n",
        "            #print('loss:', loss)\n",
        "\n",
        "            acc = binary_accuracy(logits, batch.label)\n",
        "            #print('acc:', acc)\n",
        "\n",
        "            total_loss += loss.item()\n",
        "            total_acc += acc.item()\n",
        "        \n",
        "    return total_loss / len(iterator), total_acc / len(iterator)"
      ],
      "execution_count": 38,
      "outputs": []
    },
    {
      "cell_type": "code",
      "metadata": {
        "id": "Enr8DiUQiR1i"
      },
      "source": [
        "import time\n",
        "\n",
        "def epoch_time(start_time, end_time):\n",
        "    elapsed_time = end_time - start_time\n",
        "    elapsed_mins = int(elapsed_time / 60)\n",
        "    elapsed_secs = int(elapsed_time - (elapsed_mins * 60))\n",
        "    return elapsed_mins, elapsed_secs"
      ],
      "execution_count": 39,
      "outputs": []
    },
    {
      "cell_type": "code",
      "metadata": {
        "colab": {
          "base_uri": "https://localhost:8080/"
        },
        "id": "Wjzg9ITVCZBR",
        "outputId": "71c8712f-c9ed-4784-c903-c03e7a48449c"
      },
      "source": [
        "\n",
        "N_EPOCHS = 5\n",
        "\n",
        "for epoch in range(N_EPOCHS):\n",
        "    validate_after_n_batch = 50\n",
        "    train(model, train_iter, optimizer, criterion, epoch, validate_after_n_batch)        "
      ],
      "execution_count": 40,
      "outputs": [
        {
          "output_type": "stream",
          "text": [
            "Epoch: 01 | Total Batch: 000050 | Training Time for latest 050 batches: 0m 7s\n",
            "\tTrain Loss: 0.778 | Train Acc: 58.13%\n",
            "\t Val. Loss: 0.630 |  Val. Acc: 64.19%\n",
            "Epoch: 01 | Total Batch: 000100 | Training Time for latest 050 batches: 0m 4s\n",
            "\tTrain Loss: 0.736 | Train Acc: 59.94%\n",
            "\t Val. Loss: 0.587 |  Val. Acc: 68.47%\n",
            "Epoch: 01 | Total Batch: 000150 | Training Time for latest 050 batches: 0m 5s\n",
            "\tTrain Loss: 0.709 | Train Acc: 61.64%\n",
            "\t Val. Loss: 0.547 |  Val. Acc: 72.74%\n",
            "Epoch: 01 | Total Batch: 000200 | Training Time for latest 050 batches: 0m 6s\n",
            "\tTrain Loss: 0.678 | Train Acc: 63.77%\n",
            "\t Val. Loss: 0.490 |  Val. Acc: 76.96%\n",
            "Epoch: 01 | Total Batch: 000250 | Training Time for latest 050 batches: 0m 6s\n",
            "\tTrain Loss: 0.649 | Train Acc: 65.70%\n",
            "\t Val. Loss: 0.458 |  Val. Acc: 78.43%\n",
            "Epoch: 02 | Total Batch: 000050 | Training Time for latest 050 batches: 0m 5s\n",
            "\tTrain Loss: 0.417 | Train Acc: 80.72%\n",
            "\t Val. Loss: 0.400 |  Val. Acc: 81.71%\n",
            "Epoch: 02 | Total Batch: 000100 | Training Time for latest 050 batches: 0m 6s\n",
            "\tTrain Loss: 0.403 | Train Acc: 81.58%\n",
            "\t Val. Loss: 0.385 |  Val. Acc: 82.65%\n",
            "Epoch: 02 | Total Batch: 000150 | Training Time for latest 050 batches: 0m 6s\n",
            "\tTrain Loss: 0.404 | Train Acc: 81.75%\n",
            "\t Val. Loss: 0.357 |  Val. Acc: 84.62%\n",
            "Epoch: 02 | Total Batch: 000200 | Training Time for latest 050 batches: 0m 5s\n",
            "\tTrain Loss: 0.403 | Train Acc: 81.75%\n",
            "\t Val. Loss: 0.340 |  Val. Acc: 85.09%\n",
            "Epoch: 02 | Total Batch: 000250 | Training Time for latest 050 batches: 0m 6s\n",
            "\tTrain Loss: 0.400 | Train Acc: 82.01%\n",
            "\t Val. Loss: 0.328 |  Val. Acc: 86.08%\n",
            "Epoch: 03 | Total Batch: 000050 | Training Time for latest 050 batches: 0m 5s\n",
            "\tTrain Loss: 0.263 | Train Acc: 89.31%\n",
            "\t Val. Loss: 0.322 |  Val. Acc: 86.22%\n",
            "Epoch: 03 | Total Batch: 000100 | Training Time for latest 050 batches: 0m 6s\n",
            "\tTrain Loss: 0.259 | Train Acc: 89.30%\n",
            "\t Val. Loss: 0.335 |  Val. Acc: 85.99%\n",
            "Epoch: 03 | Total Batch: 000150 | Training Time for latest 050 batches: 0m 5s\n",
            "\tTrain Loss: 0.265 | Train Acc: 89.08%\n",
            "\t Val. Loss: 0.361 |  Val. Acc: 84.13%\n",
            "Epoch: 03 | Total Batch: 000200 | Training Time for latest 050 batches: 0m 7s\n",
            "\tTrain Loss: 0.275 | Train Acc: 88.66%\n",
            "\t Val. Loss: 0.385 |  Val. Acc: 83.55%\n",
            "Epoch: 03 | Total Batch: 000250 | Training Time for latest 050 batches: 0m 6s\n",
            "\tTrain Loss: 0.283 | Train Acc: 88.41%\n",
            "\t Val. Loss: 0.363 |  Val. Acc: 84.77%\n",
            "Epoch: 04 | Total Batch: 000050 | Training Time for latest 050 batches: 0m 6s\n",
            "\tTrain Loss: 0.168 | Train Acc: 93.81%\n",
            "\t Val. Loss: 0.314 |  Val. Acc: 87.21%\n",
            "Epoch: 04 | Total Batch: 000100 | Training Time for latest 050 batches: 0m 6s\n",
            "\tTrain Loss: 0.168 | Train Acc: 93.66%\n",
            "\t Val. Loss: 0.351 |  Val. Acc: 86.28%\n",
            "Epoch: 04 | Total Batch: 000150 | Training Time for latest 050 batches: 0m 6s\n",
            "\tTrain Loss: 0.174 | Train Acc: 93.35%\n",
            "\t Val. Loss: 0.316 |  Val. Acc: 87.32%\n",
            "Epoch: 04 | Total Batch: 000200 | Training Time for latest 050 batches: 0m 5s\n",
            "\tTrain Loss: 0.180 | Train Acc: 92.98%\n",
            "\t Val. Loss: 0.325 |  Val. Acc: 87.17%\n",
            "Epoch: 04 | Total Batch: 000250 | Training Time for latest 050 batches: 0m 5s\n",
            "\tTrain Loss: 0.187 | Train Acc: 92.69%\n",
            "\t Val. Loss: 0.314 |  Val. Acc: 87.59%\n",
            "Epoch: 05 | Total Batch: 000050 | Training Time for latest 050 batches: 0m 6s\n",
            "\tTrain Loss: 0.117 | Train Acc: 96.06%\n",
            "\t Val. Loss: 0.326 |  Val. Acc: 87.38%\n",
            "Epoch: 05 | Total Batch: 000100 | Training Time for latest 050 batches: 0m 5s\n",
            "\tTrain Loss: 0.114 | Train Acc: 95.88%\n",
            "\t Val. Loss: 0.336 |  Val. Acc: 87.52%\n",
            "Epoch: 05 | Total Batch: 000150 | Training Time for latest 050 batches: 0m 5s\n",
            "\tTrain Loss: 0.121 | Train Acc: 95.49%\n",
            "\t Val. Loss: 0.342 |  Val. Acc: 87.67%\n",
            "Epoch: 05 | Total Batch: 000200 | Training Time for latest 050 batches: 0m 6s\n",
            "\tTrain Loss: 0.129 | Train Acc: 95.01%\n",
            "\t Val. Loss: 0.354 |  Val. Acc: 87.31%\n",
            "Epoch: 05 | Total Batch: 000250 | Training Time for latest 050 batches: 0m 6s\n",
            "\tTrain Loss: 0.127 | Train Acc: 95.06%\n",
            "\t Val. Loss: 0.353 |  Val. Acc: 87.71%\n"
          ],
          "name": "stdout"
        }
      ]
    },
    {
      "cell_type": "markdown",
      "metadata": {
        "id": "X_vdhLYN_Kvf"
      },
      "source": [
        ""
      ]
    },
    {
      "cell_type": "code",
      "metadata": {
        "id": "hKUlyUmiCuvq"
      },
      "source": [
        "model.load_state_dict(torch.load('model.pt'))\n",
        "\n",
        "test_loss, test_acc = evaluate(model, test_iterator, criterion)\n",
        "\n",
        "print(f'Test Loss: {test_loss:.3f} | Test Acc: {test_acc*100:.2f}%')"
      ],
      "execution_count": null,
      "outputs": []
    }
  ]
}