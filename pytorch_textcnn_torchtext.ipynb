{
 "cells": [
  {
   "cell_type": "markdown",
   "metadata": {
    "colab_type": "text",
    "id": "view-in-github"
   },
   "source": [
    "<a href=\"https://colab.research.google.com/github/AnXiaoNuan/geektime_learn_NLP/blob/master/pytorch_textcnn_torchtext.ipynb\" target=\"_parent\"><img src=\"https://colab.research.google.com/assets/colab-badge.svg\" alt=\"Open In Colab\"/></a>"
   ]
  },
  {
   "cell_type": "code",
   "execution_count": 50,
   "metadata": {
    "id": "lYHe6Ze7KXro"
   },
   "outputs": [],
   "source": [
    "import nltk\n",
    "from nltk.tokenize import word_tokenize\n",
    "\n",
    "import torch\n",
    "import torch.nn as nn\n",
    "from torchtext.legacy import data, datasets\n",
    "\n",
    "\n",
    "import random"
   ]
  },
  {
   "cell_type": "code",
   "execution_count": 51,
   "metadata": {
    "id": "FFEzmLbhFqBh"
   },
   "outputs": [],
   "source": [
    "import time"
   ]
  },
  {
   "cell_type": "code",
   "execution_count": 52,
   "metadata": {
    "id": "tDunT1RGRX1G"
   },
   "outputs": [],
   "source": [
    "SEED = 1234\n",
    "torch.manual_seed(SEED)\n",
    "torch.backends.cudnn.deterministic = True"
   ]
  },
  {
   "cell_type": "markdown",
   "metadata": {
    "id": "aPCOgeCbMXqn"
   },
   "source": [
    "# prepare data"
   ]
  },
  {
   "cell_type": "markdown",
   "metadata": {
    "id": "5hFZpJj7O1N5"
   },
   "source": [
    "tokenize, build vocabulary, covert text into word index."
   ]
  },
  {
   "cell_type": "markdown",
   "metadata": {
    "id": "pg1c80b7TSsh"
   },
   "source": [
    "Field defines how to process text, here is the most common parameters:\n",
    "\n",
    "sequential – Whether the datatype represents sequential data. If False, no tokenization is applied. Default: True.\n",
    "\n",
    "use_vocab – Whether to use a Vocab object. If False, the data in this field should already be numerical. Default: True.\n",
    "\n",
    "preprocessing – The Pipeline that will be applied to examples using this field after tokenizing but before numericalizing. Many Datasets replace this attribute with a custom preprocessor. Default: None.\n",
    "\n",
    "batch_first – Whether to produce tensors with the batch dimension first. Default: False.\n",
    "\n",
    "\n",
    "\n"
   ]
  },
  {
   "cell_type": "code",
   "execution_count": 53,
   "metadata": {
    "colab": {
     "base_uri": "https://localhost:8080/"
    },
    "id": "Xz5toNH7K2cL",
    "outputId": "4cfde8db-a16e-4ac7-fcb9-32882cd658ff"
   },
   "outputs": [
    {
     "name": "stdout",
     "output_type": "stream",
     "text": [
      "[nltk_data] Downloading package punkt to /root/nltk_data...\n",
      "[nltk_data]   Package punkt is already up-to-date!\n"
     ]
    }
   ],
   "source": [
    "nltk.download('punkt')\n",
    "tokenizer = word_tokenize"
   ]
  },
  {
   "cell_type": "code",
   "execution_count": 54,
   "metadata": {
    "id": "tClMLTTDMW5a"
   },
   "outputs": [],
   "source": [
    "TEXT = data.Field(tokenize=tokenizer, include_lengths=True)\n",
    "LABEL = data.LabelField(dtype=torch.float)\n",
    "train_data, test_data = datasets.IMDB.splits(TEXT, LABEL, root='/home')"
   ]
  },
  {
   "cell_type": "code",
   "execution_count": 55,
   "metadata": {
    "id": "u0eVh4_xMRk0"
   },
   "outputs": [],
   "source": [
    "train_data, valid_data = train_data.split(random_state=random.seed(SEED))"
   ]
  },
  {
   "cell_type": "code",
   "execution_count": 56,
   "metadata": {
    "id": "raMDngUsLI5v"
   },
   "outputs": [],
   "source": [
    "MAX_VOCAB_SIZE = 25000\n",
    "TEXT.build_vocab(train_data, max_size= MAX_VOCAB_SIZE, vectors=\"glove.6B.300d\", unk_init=torch.Tensor.normal_)\n",
    "LABEL.build_vocab(train_data, valid_data, test_data)"
   ]
  },
  {
   "cell_type": "markdown",
   "metadata": {
    "id": "BqFYN7KJSOxo"
   },
   "source": [
    "# build iterator"
   ]
  },
  {
   "cell_type": "code",
   "execution_count": 57,
   "metadata": {
    "colab": {
     "base_uri": "https://localhost:8080/"
    },
    "id": "sRXS7DIhOBMM",
    "outputId": "cb2f402e-0da2-4a9a-fe4c-456a7f2af0e5"
   },
   "outputs": [
    {
     "name": "stdout",
     "output_type": "stream",
     "text": [
      "cuda\n"
     ]
    }
   ],
   "source": [
    "BATCH_SIZE = 64\n",
    "device = torch.device('cuda' if torch.cuda.is_available() else 'cpu')\n",
    "print(device)\n",
    "\n",
    "\n",
    "train_iter, val_iter, test_iter = data.BucketIterator.splits(\n",
    "    (train_data, valid_data, test_data),\n",
    "    batch_sizes = (BATCH_SIZE, BATCH_SIZE, BATCH_SIZE),\n",
    "    sort_within_batch = True,\n",
    "    device = device)"
   ]
  },
  {
   "cell_type": "markdown",
   "metadata": {
    "id": "zU8pfFwaUkR_"
   },
   "source": [
    "# Define Model"
   ]
  },
  {
   "cell_type": "code",
   "execution_count": 58,
   "metadata": {
    "id": "sUpHePwoTFI5"
   },
   "outputs": [],
   "source": [
    "\n",
    "class textCNNMulti(nn.Module):\n",
    "\n",
    "    def __init__(self, args):\n",
    "        super().__init__()\n",
    "        dim = args['dim']\n",
    "        n_class = args['n_class']\n",
    "        embeddings=args['embedding_matrix']\n",
    "        kernels = [3, 4, 5]\n",
    "        kernel_number = [150, 150, 150]\n",
    "        self.static_embed = nn.Embedding.from_pretrained(embeddings)\n",
    "        self.non_static_embed = nn.Embedding.from_pretrained(embeddings, freeze=False)\n",
    "        self.convs = nn.ModuleList([nn.Conv2d(2, number, (size, dim), padding=(size-1,0)) for (size, number) in zip(kernels, kernel_number)])\n",
    "        self.dropout = nn.Dropout()\n",
    "        self.out = nn.Linear(sum(kernel_number), n_class)\n",
    "\n",
    "    def forward(self, x):\n",
    "        #print('x original shape is ', x.shape)\n",
    "        non_static_input = self.non_static_embed(x)\n",
    "        static_input = self.static_embed(x)\n",
    "        x = torch.stack([non_static_input, static_input], dim=1)\n",
    "        x = x.permute(2, 1, 0, 3)\n",
    "        #print('x after being stacked shape is ',x.shape)\n",
    "        conv_pool_x = []\n",
    "        for conv in self.convs:\n",
    "            relu_x = nn.functional.relu(conv(x))\n",
    "            #print('relu_x before squeezing', relu_x.shape)\n",
    "            relu_x = relu_x.squeeze(3)\n",
    "            #print('relu_x after squeezing', relu_x.shape)\n",
    "            pool_x = nn.functional.max_pool1d(relu_x, relu_x.size(2))\n",
    "            #print('pool_x before squeezing', relu_x.shape)\n",
    "            pool_x = pool_x.squeeze(2)\n",
    "            #print('pool_x after squeezing', relu_x.shape)\n",
    "            conv_pool_x.append(pool_x)\n",
    "\n",
    "        #print('len(conv_pool_x):', len(conv_pool_x))\n",
    "        #print('conv_pool_x[0].shape:', conv_pool_x[0].shape)\n",
    "        conv_pool_x = torch.cat(conv_pool_x, 1)\n",
    "        #print('conv_pool_x:', conv_pool_x.shape)\n",
    "        conv_pool_x = self.dropout(conv_pool_x)\n",
    "        #print('conv_pool_x after dropout:', conv_pool_x.shape)\n",
    "        conv_pool_x = self.out(conv_pool_x)\n",
    "        return conv_pool_x\n"
   ]
  },
  {
   "cell_type": "code",
   "execution_count": 59,
   "metadata": {
    "colab": {
     "base_uri": "https://localhost:8080/"
    },
    "id": "CQl897eJcttO",
    "outputId": "035f4366-c5bd-4c3f-8eea-f6b4906ca67e"
   },
   "outputs": [
    {
     "data": {
      "text/plain": [
       "tensor([[[ 1,  2,  3],\n",
       "         [ 7,  8,  9]],\n",
       "\n",
       "        [[ 4,  5,  6],\n",
       "         [11, 12, 13]]])"
      ]
     },
     "execution_count": 59,
     "metadata": {
      "tags": []
     },
     "output_type": "execute_result"
    }
   ],
   "source": [
    "a = torch.tensor([[1,2,3], [4, 5, 6]])\n",
    "b = torch.tensor([[7, 8, 9], [11, 12, 13]])\n",
    "c = torch.stack([a, b], dim=1)\n",
    "c"
   ]
  },
  {
   "cell_type": "code",
   "execution_count": 60,
   "metadata": {
    "colab": {
     "base_uri": "https://localhost:8080/"
    },
    "id": "DM-GO_bIdDH8",
    "outputId": "bead0f71-0db3-40d3-f56b-bde2b6ae2412"
   },
   "outputs": [
    {
     "data": {
      "text/plain": [
       "torch.Size([2, 2, 3])"
      ]
     },
     "execution_count": 60,
     "metadata": {
      "tags": []
     },
     "output_type": "execute_result"
    }
   ],
   "source": [
    "c.shape"
   ]
  },
  {
   "cell_type": "markdown",
   "metadata": {
    "id": "coj0AN7H_wHC"
   },
   "source": [
    "# initialize model"
   ]
  },
  {
   "cell_type": "code",
   "execution_count": 61,
   "metadata": {
    "id": "9J_1vzfMf59m"
   },
   "outputs": [],
   "source": [
    "args={}\n",
    "args['vocb_size']=len(TEXT.vocab)\n",
    "args['dim']=300\n",
    "args['n_class']=len(LABEL.vocab)\n",
    "args['embedding_matrix']=TEXT.vocab.vectors\n",
    "args['lr']=0.001\n",
    "args['momentum']=0.8\n",
    "args['epochs']=180\n",
    "args['log_interval']=100\n",
    "args['test_interval']=500\n",
    "args['save_dir']='./'\n",
    "UNK_IDX = TEXT.vocab.stoi[TEXT.unk_token]\n",
    "PAD_IDX = TEXT.vocab.stoi[TEXT.pad_token]\n",
    "\n",
    "model = textCNNMulti(args)\n",
    "model = model.to(device)\n",
    "model.static_embed.weight.data[UNK_IDX] = torch.zeros(args['dim'])\n",
    "model.static_embed.weight.data[PAD_IDX] = torch.zeros(args['dim'])"
   ]
  },
  {
   "cell_type": "code",
   "execution_count": 62,
   "metadata": {
    "id": "03ZXG39QFYgp"
   },
   "outputs": [],
   "source": [
    "model.non_static_embed.weight.data[UNK_IDX] = torch.zeros(args['dim'])\n",
    "model.non_static_embed.weight.data[PAD_IDX] = torch.zeros(args['dim'])"
   ]
  },
  {
   "cell_type": "markdown",
   "metadata": {
    "id": "GGhQRZUQ_2Z6"
   },
   "source": [
    "# initialize optimizer"
   ]
  },
  {
   "cell_type": "code",
   "execution_count": 63,
   "metadata": {
    "id": "AytwCqMt__1W"
   },
   "outputs": [],
   "source": [
    "import torch.optim as optim\n",
    "\n",
    "optimizer = optim.Adam(model.parameters(), lr=args['lr'])\n",
    "criterion = nn.CrossEntropyLoss()\n",
    "criterion = criterion.to(device)"
   ]
  },
  {
   "cell_type": "code",
   "execution_count": 64,
   "metadata": {
    "id": "dnvKY9nnAg7x"
   },
   "outputs": [],
   "source": [
    "def binary_accuracy(logits, y):\n",
    "    \"\"\"\n",
    "    Returns accuracy per batch, i.e. if you get 8/10 right, this returns 0.8, NOT 8\n",
    "    \"\"\"\n",
    "\n",
    "    #round predictions to the closest integer\n",
    "    softmax = nn.Softmax(dim=1)\n",
    "    probs = softmax(logits)\n",
    "    _, y_pred_tags = torch.max(probs, dim = 1)\n",
    "    correct = (y_pred_tags == y).float() #convert into float for division \n",
    "    acc = correct.sum() / len(correct)\n",
    "    return acc"
   ]
  },
  {
   "cell_type": "markdown",
   "metadata": {
    "id": "uONNAnnGAnSJ"
   },
   "source": [
    "# train"
   ]
  },
  {
   "cell_type": "code",
   "execution_count": 65,
   "metadata": {
    "id": "ssJ-feOjAqUk"
   },
   "outputs": [],
   "source": [
    "def train(model, iterator, optimizer, criterion, epoch, validate_after_n_batch):\n",
    "    # epoch_loss = 0\n",
    "    # epoch_acc = 0\n",
    "\n",
    "    best_valid_loss = float('inf')\n",
    "\n",
    "    n_batch_train_loss = 0\n",
    "    n_batch_train_acc = 0\n",
    "\n",
    "    model.train()\n",
    "\n",
    "    total_batch = 0\n",
    "\n",
    "    start_time = time.time()\n",
    "\n",
    "    for batch in iterator:\n",
    "\n",
    "    #print(batch)\n",
    "    total_batch += 1\n",
    "\n",
    "    optimizer.zero_grad()\n",
    "\n",
    "    text, tex_lengths = batch.text\n",
    "\n",
    "    #print(text.shape)\n",
    "\n",
    "    text = text.cuda()\n",
    "\n",
    "    logits = model(text).squeeze(1)\n",
    "\n",
    "    label = batch.label.type(torch.long)\n",
    "\n",
    "    loss = criterion(logits, label)\n",
    "\n",
    "    acc = binary_accuracy(logits, label)\n",
    "\n",
    "    loss.backward()\n",
    "\n",
    "    optimizer.step()\n",
    "\n",
    "    end_time = time.time()\n",
    "\n",
    "    epoch_mins, epoch_secs = epoch_time(start_time, end_time)\n",
    "\n",
    "    n_batch_train_loss += loss.item()\n",
    "    n_batch_train_acc += acc.item()\n",
    "\n",
    "    avg_batch_train_loss = n_batch_train_loss / total_batch\n",
    "    avg_batch_train_acc = n_batch_train_acc / total_batch\n",
    "\n",
    "    if total_batch % validate_after_n_batch == 0:\n",
    "        # validation\n",
    "        avg_batch_valid_loss, avg_batch_valid_acc = evaluate(model, val_iter, criterion)\n",
    "\n",
    "        if avg_batch_valid_loss < best_valid_loss:\n",
    "            best_valid_loss = avg_batch_valid_loss\n",
    "            torch.save(model.state_dict(), 'model.pt')\n",
    "        print(f'Epoch: {epoch+1:02} | Total Batch: {total_batch:06} | Training Time for latest {validate_after_n_batch:03} batches: {epoch_mins}m {epoch_secs}s' )\n",
    "        print(f'\\tTrain Loss: {avg_batch_train_loss:.3f} | Train Acc: {avg_batch_train_acc*100:.2f}%')\n",
    "        print(f'\\t Val. Loss: {avg_batch_valid_loss:.3f} |  Val. Acc: {avg_batch_valid_acc*100:.2f}%')\n",
    "        start_time = time.time()\n",
    "        model.train()\n",
    "        \n",
    "        \n",
    "  #return epoch_loss / len(iterator), epoch_acc / len(iterator)\n"
   ]
  },
  {
   "cell_type": "code",
   "execution_count": 74,
   "metadata": {
    "id": "WxlfT6wKCUoR"
   },
   "outputs": [],
   "source": [
    "def evaluate(model, iterator, criterion):\n",
    "    \n",
    "    total_loss = 0\n",
    "    total_acc = 0\n",
    "    \n",
    "    model.eval()\n",
    "\n",
    "    #print(len(iterator))\n",
    "    \n",
    "    with torch.no_grad():\n",
    "    \n",
    "        for batch in iterator:\n",
    "          \n",
    "            text, text_lengths = batch.text\n",
    "\n",
    "            text = text.cuda()\n",
    "\n",
    "            label = batch.label.type(torch.long)\n",
    "\n",
    "            logits = model(text).squeeze(1)\n",
    "\n",
    "            loss = criterion(logits, label)\n",
    "            #print('loss:', loss)\n",
    "\n",
    "            acc = binary_accuracy(logits, batch.label)\n",
    "            #print('acc:', acc)\n",
    "\n",
    "            total_loss += loss.item()\n",
    "            total_acc += acc.item()\n",
    "        \n",
    "    return total_loss / len(iterator), total_acc / len(iterator)"
   ]
  },
  {
   "cell_type": "code",
   "execution_count": 67,
   "metadata": {
    "id": "Enr8DiUQiR1i"
   },
   "outputs": [],
   "source": [
    "import time\n",
    "\n",
    "def epoch_time(start_time, end_time):\n",
    "    elapsed_time = end_time - start_time\n",
    "    elapsed_mins = int(elapsed_time / 60)\n",
    "    elapsed_secs = int(elapsed_time - (elapsed_mins * 60))\n",
    "    return elapsed_mins, elapsed_secs"
   ]
  },
  {
   "cell_type": "code",
   "execution_count": 75,
   "metadata": {
    "colab": {
     "base_uri": "https://localhost:8080/"
    },
    "id": "Wjzg9ITVCZBR",
    "outputId": "bcf66098-2530-496b-e4ef-d7396c3c58a6"
   },
   "outputs": [
    {
     "name": "stdout",
     "output_type": "stream",
     "text": [
      "Epoch: 01 | Total Batch: 000050 | Training Time for latest 050 batches: 2m 44s\n",
      "\tTrain Loss: 0.010 | Train Acc: 99.84%\n",
      "\t Val. Loss: 0.404 |  Val. Acc: 87.62%\n",
      "Epoch: 01 | Total Batch: 000100 | Training Time for latest 050 batches: 2m 43s\n",
      "\tTrain Loss: 0.008 | Train Acc: 99.89%\n",
      "\t Val. Loss: 0.419 |  Val. Acc: 87.50%\n",
      "Epoch: 01 | Total Batch: 000150 | Training Time for latest 050 batches: 2m 44s\n",
      "\tTrain Loss: 0.007 | Train Acc: 99.93%\n",
      "\t Val. Loss: 0.398 |  Val. Acc: 87.91%\n",
      "Epoch: 01 | Total Batch: 000200 | Training Time for latest 050 batches: 2m 43s\n",
      "\tTrain Loss: 0.006 | Train Acc: 99.94%\n",
      "\t Val. Loss: 0.399 |  Val. Acc: 88.11%\n",
      "Epoch: 01 | Total Batch: 000250 | Training Time for latest 050 batches: 2m 43s\n",
      "\tTrain Loss: 0.006 | Train Acc: 99.94%\n",
      "\t Val. Loss: 0.402 |  Val. Acc: 88.18%\n",
      "Epoch: 02 | Total Batch: 000050 | Training Time for latest 050 batches: 2m 43s\n",
      "\tTrain Loss: 0.007 | Train Acc: 99.84%\n",
      "\t Val. Loss: 0.412 |  Val. Acc: 87.92%\n",
      "Epoch: 02 | Total Batch: 000100 | Training Time for latest 050 batches: 2m 43s\n",
      "\tTrain Loss: 0.005 | Train Acc: 99.89%\n",
      "\t Val. Loss: 0.449 |  Val. Acc: 87.52%\n",
      "Epoch: 02 | Total Batch: 000150 | Training Time for latest 050 batches: 2m 44s\n",
      "\tTrain Loss: 0.004 | Train Acc: 99.93%\n",
      "\t Val. Loss: 0.409 |  Val. Acc: 88.20%\n",
      "Epoch: 02 | Total Batch: 000200 | Training Time for latest 050 batches: 2m 43s\n",
      "\tTrain Loss: 0.003 | Train Acc: 99.95%\n",
      "\t Val. Loss: 0.412 |  Val. Acc: 88.31%\n",
      "Epoch: 02 | Total Batch: 000250 | Training Time for latest 050 batches: 2m 42s\n",
      "\tTrain Loss: 0.003 | Train Acc: 99.96%\n",
      "\t Val. Loss: 0.414 |  Val. Acc: 88.36%\n",
      "Epoch: 03 | Total Batch: 000050 | Training Time for latest 050 batches: 2m 44s\n",
      "\tTrain Loss: 0.010 | Train Acc: 99.78%\n",
      "\t Val. Loss: 0.452 |  Val. Acc: 87.96%\n",
      "Epoch: 03 | Total Batch: 000100 | Training Time for latest 050 batches: 2m 43s\n",
      "\tTrain Loss: 0.006 | Train Acc: 99.88%\n",
      "\t Val. Loss: 0.441 |  Val. Acc: 88.07%\n",
      "Epoch: 03 | Total Batch: 000150 | Training Time for latest 050 batches: 2m 43s\n",
      "\tTrain Loss: 0.005 | Train Acc: 99.92%\n",
      "\t Val. Loss: 0.438 |  Val. Acc: 88.14%\n",
      "Epoch: 03 | Total Batch: 000200 | Training Time for latest 050 batches: 2m 44s\n",
      "\tTrain Loss: 0.004 | Train Acc: 99.94%\n",
      "\t Val. Loss: 0.439 |  Val. Acc: 88.23%\n",
      "Epoch: 03 | Total Batch: 000250 | Training Time for latest 050 batches: 2m 43s\n",
      "\tTrain Loss: 0.003 | Train Acc: 99.95%\n",
      "\t Val. Loss: 0.441 |  Val. Acc: 88.08%\n",
      "Epoch: 04 | Total Batch: 000050 | Training Time for latest 050 batches: 2m 44s\n",
      "\tTrain Loss: 0.006 | Train Acc: 99.88%\n",
      "\t Val. Loss: 0.466 |  Val. Acc: 88.10%\n",
      "Epoch: 04 | Total Batch: 000100 | Training Time for latest 050 batches: 2m 44s\n",
      "\tTrain Loss: 0.004 | Train Acc: 99.92%\n",
      "\t Val. Loss: 0.491 |  Val. Acc: 87.79%\n",
      "Epoch: 04 | Total Batch: 000150 | Training Time for latest 050 batches: 2m 43s\n",
      "\tTrain Loss: 0.003 | Train Acc: 99.95%\n",
      "\t Val. Loss: 0.474 |  Val. Acc: 88.02%\n",
      "Epoch: 04 | Total Batch: 000200 | Training Time for latest 050 batches: 2m 43s\n",
      "\tTrain Loss: 0.003 | Train Acc: 99.96%\n",
      "\t Val. Loss: 0.465 |  Val. Acc: 88.23%\n",
      "Epoch: 04 | Total Batch: 000250 | Training Time for latest 050 batches: 2m 43s\n",
      "\tTrain Loss: 0.002 | Train Acc: 99.97%\n",
      "\t Val. Loss: 0.461 |  Val. Acc: 88.39%\n",
      "Epoch: 05 | Total Batch: 000050 | Training Time for latest 050 batches: 2m 43s\n",
      "\tTrain Loss: 0.013 | Train Acc: 99.66%\n",
      "\t Val. Loss: 0.570 |  Val. Acc: 87.02%\n",
      "Epoch: 05 | Total Batch: 000100 | Training Time for latest 050 batches: 2m 44s\n",
      "\tTrain Loss: 0.012 | Train Acc: 99.70%\n",
      "\t Val. Loss: 0.520 |  Val. Acc: 87.80%\n",
      "Epoch: 05 | Total Batch: 000150 | Training Time for latest 050 batches: 2m 44s\n",
      "\tTrain Loss: 0.016 | Train Acc: 99.54%\n",
      "\t Val. Loss: 0.581 |  Val. Acc: 86.19%\n",
      "Epoch: 05 | Total Batch: 000200 | Training Time for latest 050 batches: 2m 43s\n",
      "\tTrain Loss: 0.054 | Train Acc: 98.46%\n",
      "\t Val. Loss: 1.099 |  Val. Acc: 81.43%\n",
      "Epoch: 05 | Total Batch: 000250 | Training Time for latest 050 batches: 2m 43s\n",
      "\tTrain Loss: 0.061 | Train Acc: 98.18%\n",
      "\t Val. Loss: 0.709 |  Val. Acc: 85.96%\n"
     ]
    }
   ],
   "source": [
    "\n",
    "N_EPOCHS = 5\n",
    "\n",
    "for epoch in range(N_EPOCHS):\n",
    "    validate_after_n_batch = 50\n",
    "    train(model, train_iter, optimizer, criterion, epoch, validate_after_n_batch)        "
   ]
  },
  {
   "cell_type": "markdown",
   "metadata": {
    "id": "X_vdhLYN_Kvf"
   },
   "source": []
  },
  {
   "cell_type": "code",
   "execution_count": null,
   "metadata": {
    "id": "hKUlyUmiCuvq"
   },
   "outputs": [],
   "source": [
    "model.load_state_dict(torch.load('model.pt'))\n",
    "\n",
    "test_loss, test_acc = evaluate(model, test_iterator, criterion)\n",
    "\n",
    "print(f'Test Loss: {test_loss:.3f} | Test Acc: {test_acc*100:.2f}%')"
   ]
  }
 ],
 "metadata": {
  "accelerator": "GPU",
  "colab": {
   "authorship_tag": "ABX9TyMbShLWHHU947H9QUeSr1t7",
   "collapsed_sections": [],
   "include_colab_link": true,
   "name": "pytorch_textcnn_torchtext",
   "provenance": [],
   "toc_visible": true
  },
  "kernelspec": {
   "display_name": "Python 3",
   "language": "python",
   "name": "python3"
  },
  "language_info": {
   "codemirror_mode": {
    "name": "ipython",
    "version": 3
   },
   "file_extension": ".py",
   "mimetype": "text/x-python",
   "name": "python",
   "nbconvert_exporter": "python",
   "pygments_lexer": "ipython3",
   "version": "3.8.5"
  }
 },
 "nbformat": 4,
 "nbformat_minor": 1
}
